{
 "cells": [
  {
   "cell_type": "code",
   "execution_count": 1,
   "metadata": {},
   "outputs": [],
   "source": [
    "import cv2\n",
    "import mediapipe as mp\n",
    "import numpy as np"
   ]
  },
  {
   "cell_type": "code",
   "execution_count": 2,
   "metadata": {},
   "outputs": [],
   "source": [
    "mpsolution = mp.solutions.holistic\n",
    "drawing = mp.solutions.drawing_utils"
   ]
  },
  {
   "cell_type": "code",
   "execution_count": 3,
   "metadata": {},
   "outputs": [],
   "source": [
    "def Superimpose(image, landmarks):\n",
    "    drawing.draw_landmarks(image, landmarks.face_landmarks, mpsolution.FACEMESH_CONTOURS, drawing.DrawingSpec(color=(80, 110, 10), thickness=1, circle_radius=1), drawing.DrawingSpec(color=(80, 256, 121), thickness=1, circle_radius=1))\n",
    "    drawing.draw_landmarks(image, landmarks.pose_landmarks, mpsolution.POSE_CONNECTIONS)\n",
    "    drawing.draw_landmarks(image, landmarks.left_hand_landmarks, mpsolution.HAND_CONNECTIONS, drawing.DrawingSpec(color=(80, 110, 10), thickness=1, circle_radius=1), drawing.DrawingSpec(color=(80, 256, 121), thickness=1, circle_radius=1))\n",
    "    drawing.draw_landmarks(image, landmarks.right_hand_landmarks, mpsolution.HAND_CONNECTIONS, drawing.DrawingSpec(color=(80, 110, 10), thickness=1, circle_radius=1), drawing.DrawingSpec(color=(80, 256, 121), thickness=1, circle_radius=1))"
   ]
  },
  {
   "cell_type": "code",
   "execution_count": 4,
   "metadata": {},
   "outputs": [],
   "source": [
    "def BrightnessContrast(img, brightness = 0, contrast = 0):\n",
    "     \n",
    "    # getTrackbarPos returns the current\n",
    "    # position of the specified trackbar.\n",
    "    # brightness = cv2.getTrackbarPos('Brightness', 'test')\n",
    "      \n",
    "    # contrast = cv2.getTrackbarPos('Contrast', 'test')\n",
    "  \n",
    "    effect = controller(img, brightness, contrast)\n",
    "  \n",
    "    # The function imshow displays an image\n",
    "    # in the specified window\n",
    "    return effect\n",
    "\n",
    "def controller(img, brightness=255, contrast=127):\n",
    "    brightness = int((brightness - 0) * (255 - (-255)) / (510 - 0) + (-255))\n",
    "    contrast = int((contrast - 0) * (127 - (-127)) / (254 - 0) + (-127))\n",
    "  \n",
    "    if brightness != 0:\n",
    "        if brightness > 0:\n",
    "            shadow = brightness\n",
    "            max = 255\n",
    "        else:\n",
    "            shadow = 0\n",
    "            max = 255 + brightness\n",
    "\n",
    "        al_pha = (max - shadow) / 255\n",
    "        ga_mma = shadow\n",
    "  \n",
    "        # The function addWeighted calculates\n",
    "        # the weighted sum of two arrays\n",
    "        cal = cv2.addWeighted(img, al_pha, img, 0, ga_mma)\n",
    "    else:\n",
    "        cal = img\n",
    "  \n",
    "    if contrast != 0:\n",
    "        Alpha = float(131 * (contrast + 127)) / (127 * (131 - contrast))\n",
    "        Gamma = 127 * (1 - Alpha)  \n",
    "        # The function addWeighted calculates\n",
    "        # the weighted sum of two arrays\n",
    "        cal = cv2.addWeighted(cal, Alpha, cal, 0, Gamma)\n",
    "  \n",
    "    # putText renders the specified text string in the image.\n",
    "    #cv2.putText(cal, 'B:{},C:{}'.format(brightness, contrast), (10, 30), cv2.FONT_HERSHEY_SIMPLEX, 1, (0, 0, 255), 2)\n",
    "  \n",
    "    return cal"
   ]
  },
  {
   "cell_type": "code",
   "execution_count": 5,
   "metadata": {},
   "outputs": [],
   "source": [
    "def detection(image, model):\n",
    "    image = cv2.cvtColor(image, cv2.COLOR_BGR2RGB)\n",
    "    image.flags.writeable = False\n",
    "    result = model.process(image)\n",
    "    image.flags.writeable = True\n",
    "    image = cv2.cvtColor(image, cv2.COLOR_RGB2BGR)\n",
    "    return result"
   ]
  },
  {
   "cell_type": "code",
   "execution_count": 6,
   "metadata": {},
   "outputs": [],
   "source": [
    "def Process(result):\n",
    "    processed = dict()\n",
    "\n",
    "    if result.pose_landmarks:\n",
    "        temp = list(result.pose_landmarks.landmark)[0]\n",
    "        landmarks = np.array([[(res.x - temp.x), (res.y - temp.y), (res.z - temp.z), res.visibility] for res in result.pose_landmarks.landmark])\n",
    "    else:\n",
    "        landmarks = np.zeros(33*4)\n",
    "\n",
    "    processed[\"pose\"] = landmarks.flatten()\n",
    "\n",
    "    if result.face_landmarks:\n",
    "        temp = list(result.face_landmarks.landmark)[0]\n",
    "        landmarks = np.array([[(res.x - temp.x), (res.y - temp.y), (res.z - temp.z)] for res in result.face_landmarks.landmark])\n",
    "    else:\n",
    "        landmarks = np.zeros(468*3)\n",
    "\n",
    "    processed[\"face\"] = landmarks.flatten()\n",
    "\n",
    "    if result.right_hand_landmarks:\n",
    "        temp = list(result.right_hand_landmarks.landmark)[0]\n",
    "        landmarks = np.array([[(res.x - temp.x), (res.y - temp.y), (res.z - temp.z)] for res in result.right_hand_landmarks.landmark])\n",
    "    else:\n",
    "        landmarks = np.zeros(21*3)\n",
    "\n",
    "    processed[\"right_hand\"] = landmarks.flatten()\n",
    "\n",
    "    if result.left_hand_landmarks:\n",
    "        temp = list(result.left_hand_landmarks.landmark)[0]\n",
    "        landmarks = np.array([[(res.x - temp.x), (res.y - temp.y), (res.z - temp.z)] for res in result.left_hand_landmarks.landmark])\n",
    "    else:\n",
    "        landmarks = np.zeros(21*3)\n",
    "\n",
    "    processed[\"left_hand\"] = landmarks.flatten()\n",
    "\n",
    "    return processed\n",
    "    #return np.concatenate([processed[\"pose\"], processed[\"face\"], processed[\"left_hand\"], processed[\"right_hand\"]])"
   ]
  },
  {
   "cell_type": "code",
   "execution_count": 7,
   "metadata": {},
   "outputs": [],
   "source": [
    "video = cv2.VideoCapture(0)\n",
    "# cv2.namedWindow('test')\n",
    "# cv2.createTrackbar('Brightness', 'test', 255, 2 * 255, BrightnessContrast) \n",
    "# cv2.createTrackbar('Contrast', 'test', 127, 2 * 127, BrightnessContrast)\n",
    "\n",
    "with mpsolution.Holistic(min_detection_confidence = 0.5, min_tracking_confidence=0.5) as model:\n",
    "    while video.isOpened():\n",
    "        ret, frame = video.read()\n",
    "        if not ret:\n",
    "            print(\"Can't receive frame (stream end?). Exiting ...\")\n",
    "            break\n",
    "        \n",
    "        result1 = detection(frame, model)\n",
    "        effect = BrightnessContrast(frame, 357, 209)\n",
    "        result2 = detection(effect, model)\n",
    "\n",
    "        Superimpose(frame, result1)\n",
    "        Superimpose(effect, result2)\n",
    "        \n",
    "        cv2.imshow(\"OnlyFans!!\", frame)\n",
    "        cv2.imshow(\"effect\", effect)\n",
    "\n",
    "        if cv2.waitKey(10) & 0xFF == ord('q'):\n",
    "            break\n",
    "    \n",
    "    video.release()\n",
    "    cv2.destroyAllWindows()"
   ]
  },
  {
   "cell_type": "code",
   "execution_count": 23,
   "metadata": {},
   "outputs": [
    {
     "data": {
      "text/plain": [
       "mediapipe.python.solution_base.SolutionOutputs"
      ]
     },
     "execution_count": 23,
     "metadata": {},
     "output_type": "execute_result"
    }
   ],
   "source": [
    "test = Process(result2)\n",
    "result2"
   ]
  },
  {
   "cell_type": "code",
   "execution_count": 35,
   "metadata": {},
   "outputs": [
    {
     "data": {
      "text/plain": [
       "(1662,)"
      ]
     },
     "execution_count": 35,
     "metadata": {},
     "output_type": "execute_result"
    }
   ],
   "source": []
  },
  {
   "cell_type": "code",
   "execution_count": null,
   "metadata": {},
   "outputs": [],
   "source": []
  }
 ],
 "metadata": {
  "interpreter": {
   "hash": "abfeca66813848e2cdbe73d59d7314be6cb81f006f558773d81e8f09166e8732"
  },
  "kernelspec": {
   "display_name": "Python 3.9.7 64-bit ('ECNG3020': conda)",
   "language": "python",
   "name": "python3"
  },
  "language_info": {
   "codemirror_mode": {
    "name": "ipython",
    "version": 3
   },
   "file_extension": ".py",
   "mimetype": "text/x-python",
   "name": "python",
   "nbconvert_exporter": "python",
   "pygments_lexer": "ipython3",
   "version": "3.9.7"
  },
  "orig_nbformat": 4
 },
 "nbformat": 4,
 "nbformat_minor": 2
}
