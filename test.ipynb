{
 "cells": [
  {
   "cell_type": "code",
   "execution_count": 61,
   "metadata": {},
   "outputs": [],
   "source": [
    "import cv2\n",
    "import mediapipe as mp\n",
    "import numpy as np\n",
    "import json\n",
    "import matplotlib.pyplot as plt\n",
    "import os\n",
    "import math\n",
    "from sklearn.metrics import confusion_matrix, accuracy_score, classification_report, ConfusionMatrixDisplay\n",
    "from sklearn.model_selection import train_test_split\n",
    "from tensorflow.keras.utils import to_categorical\n",
    "from keras.preprocessing.image import load_img\n",
    "from keras.preprocessing.image import img_to_array\n",
    "from keras.applications.vgg16 import preprocess_input\n",
    "from keras.applications.vgg16 import decode_predictions\n",
    "from keras.applications.vgg16 import VGG16\n",
    "from keras.applications import inception_v3\n",
    "from tensorflow.keras.models import Sequential, load_model\n",
    "from tensorflow.keras.layers import LSTM, Dense, Flatten, Input\n",
    "from tensorflow.keras.callbacks import TensorBoard"
   ]
  },
  {
   "cell_type": "code",
   "execution_count": 2,
   "metadata": {},
   "outputs": [],
   "source": [
    "mpsolution = mp.solutions.holistic\n",
    "drawing = mp.solutions.drawing_utils"
   ]
  },
  {
   "cell_type": "code",
   "execution_count": 3,
   "metadata": {},
   "outputs": [],
   "source": [
    "def Superimpose(image, landmarks):\n",
    "    drawing.draw_landmarks(image, landmarks.face_landmarks, mpsolution.FACEMESH_CONTOURS, drawing.DrawingSpec(color=(80, 110, 10), thickness=1, circle_radius=1), drawing.DrawingSpec(color=(80, 256, 121), thickness=1, circle_radius=1))\n",
    "    drawing.draw_landmarks(image, landmarks.pose_landmarks, mpsolution.POSE_CONNECTIONS)\n",
    "    drawing.draw_landmarks(image, landmarks.left_hand_landmarks, mpsolution.HAND_CONNECTIONS, drawing.DrawingSpec(color=(80, 110, 10), thickness=1, circle_radius=1), drawing.DrawingSpec(color=(80, 256, 121), thickness=1, circle_radius=1))\n",
    "    drawing.draw_landmarks(image, landmarks.right_hand_landmarks, mpsolution.HAND_CONNECTIONS, drawing.DrawingSpec(color=(80, 110, 10), thickness=1, circle_radius=1), drawing.DrawingSpec(color=(80, 256, 121), thickness=1, circle_radius=1))"
   ]
  },
  {
   "cell_type": "code",
   "execution_count": 4,
   "metadata": {},
   "outputs": [],
   "source": [
    "def BrightnessContrast(img, brightness = 0, contrast = 0):\n",
    "     \n",
    "    # getTrackbarPos returns the current\n",
    "    # position of the specified trackbar.\n",
    "    # brightness = cv2.getTrackbarPos('Brightness', 'test')\n",
    "      \n",
    "    # contrast = cv2.getTrackbarPos('Contrast', 'test')\n",
    "  \n",
    "    effect = controller(img, brightness, contrast)\n",
    "  \n",
    "    # The function imshow displays an image\n",
    "    # in the specified window\n",
    "    return effect\n",
    "\n",
    "def controller(img, brightness=255, contrast=127):\n",
    "    brightness = int((brightness - 0) * (255 - (-255)) / (510 - 0) + (-255))\n",
    "    contrast = int((contrast - 0) * (127 - (-127)) / (254 - 0) + (-127))\n",
    "  \n",
    "    if brightness != 0:\n",
    "        if brightness > 0:\n",
    "            shadow = brightness\n",
    "            max = 255\n",
    "        else:\n",
    "            shadow = 0\n",
    "            max = 255 + brightness\n",
    "\n",
    "        al_pha = (max - shadow) / 255\n",
    "        ga_mma = shadow\n",
    "  \n",
    "        # The function addWeighted calculates\n",
    "        # the weighted sum of two arrays\n",
    "        cal = cv2.addWeighted(img, al_pha, img, 0, ga_mma)\n",
    "    else:\n",
    "        cal = img\n",
    "  \n",
    "    if contrast != 0:\n",
    "        Alpha = float(131 * (contrast + 127)) / (127 * (131 - contrast))\n",
    "        Gamma = 127 * (1 - Alpha)  \n",
    "        # The function addWeighted calculates\n",
    "        # the weighted sum of two arrays\n",
    "        cal = cv2.addWeighted(cal, Alpha, cal, 0, Gamma)\n",
    "  \n",
    "    # putText renders the specified text string in the image.\n",
    "    #cv2.putText(cal, 'B:{},C:{}'.format(brightness, contrast), (10, 30), cv2.FONT_HERSHEY_SIMPLEX, 1, (0, 0, 255), 2)\n",
    "  \n",
    "    return cal"
   ]
  },
  {
   "cell_type": "code",
   "execution_count": 5,
   "metadata": {},
   "outputs": [],
   "source": [
    "def detection(image, model):\n",
    "    image = cv2.cvtColor(image, cv2.COLOR_BGR2RGB)\n",
    "    image.flags.writeable = False\n",
    "    result = model.process(image)\n",
    "    image.flags.writeable = True\n",
    "    image = cv2.cvtColor(image, cv2.COLOR_RGB2BGR)\n",
    "    return result"
   ]
  },
  {
   "cell_type": "markdown",
   "metadata": {},
   "source": [
    "def ProcessPaper(video):\n",
    "    processed = dict()\n",
    "    final = []\n",
    "\n",
    "    for frame in range(len(video)):\n",
    "        ft = []\n",
    "        if not video[frame].pose_landmarks:\n",
    "            ft.append(np.zeros((2112, 3), float))\n",
    "            ft = np.reshape(np.array(ft), (2112, 3))\n",
    "        else:\n",
    "            for feature in range(len(video[frame].pose_landmarks.landmark)):\n",
    "                for feature2 in range (len(video[frame].pose_landmarks.landmark)):\n",
    "                    if feature2 == feature:\n",
    "                        continue\n",
    "\n",
    "                    ptref = video[frame].pose_landmarks.landmark[feature2]\n",
    "                    pt = video[frame].pose_landmarks.landmark[feature]\n",
    "                    if frame > 0 and video[frame-1].pose_landmarks:\n",
    "                        pt2 = ptref = video[frame-1].pose_landmarks.landmark[feature2]\n",
    "                    else:\n",
    "                        pt2 = pt\n",
    "\n",
    "                    deltax = math.sqrt((pt.y - ptref.y)**2 + (pt.z - ptref.z)**2)\n",
    "                    deltay = math.sqrt((pt.x - ptref.x)**2 + (pt.z - ptref.z)**2)\n",
    "                    deltaz = math.sqrt((pt.y - ptref.y)**2 + (pt.x - ptref.x)**2)\n",
    "                    delta = [deltax, deltay, deltaz]\n",
    "\n",
    "                    lamdax = math.sqrt((pt.y - pt2.y)**2 + (pt.z - pt2.z)**2)\n",
    "                    lamday = math.sqrt((pt.x - pt2.x)**2 + (pt.z - pt2.z)**2)\n",
    "                    lamdaz = math.sqrt((pt.y - pt2.y)**2 + (pt.x - pt2.x)**2)\n",
    "                    lamda = [lamdax, lamday, lamdaz]\n",
    "\n",
    "                    largest = max(lamda + delta)\n",
    "                    smallest = min(lamda + delta)\n",
    "\n",
    "                    largest = max(delta)\n",
    "                    smallest = min(delta)\n",
    "\n",
    "                    for temp in range(len(delta)):\n",
    "                        lamda[temp] = ((lamda[temp] - smallest)/(largest - smallest))\n",
    "                        delta[temp] = ((delta[temp] - smallest)/(largest - smallest))\n",
    "                    ft.append(delta)\n",
    "                    ft.append(lamda)\n",
    "        final.append(ft)\n",
    "    return np.array(final)"
   ]
  },
  {
   "cell_type": "code",
   "execution_count": 6,
   "metadata": {},
   "outputs": [],
   "source": [
    "def ProcessPaper(video):\n",
    "    processed = dict()\n",
    "    final = []\n",
    "\n",
    "    for frame in range(len(video)):\n",
    "        ft = []\n",
    "        if not video[frame].pose_landmarks:\n",
    "            ft.append(np.zeros((1056, 3), float))\n",
    "            ft = np.reshape(np.array(ft), (1056, 3))\n",
    "        else:\n",
    "            for feature in range(len(video[frame].pose_landmarks.landmark)):\n",
    "                for feature2 in range (len(video[frame].pose_landmarks.landmark)):\n",
    "                    if feature2 == feature:\n",
    "                        continue\n",
    "\n",
    "                    ptref = video[frame].pose_landmarks.landmark[feature2]\n",
    "                    pt = video[frame].pose_landmarks.landmark[feature]\n",
    "                    # if frame > 0:\n",
    "                    #     pt2 = ptref = video[frame-1].pose_landmarks.landmark[feature2]\n",
    "                    # else:\n",
    "                    #     pt2 = pt\n",
    "\n",
    "                    deltax = math.sqrt((pt.y - ptref.y)**2 + (pt.z - ptref.z)**2)\n",
    "                    deltay = math.sqrt((pt.x - ptref.x)**2 + (pt.z - ptref.z)**2)\n",
    "                    deltaz = math.sqrt((pt.y - ptref.y)**2 + (pt.x - ptref.x)**2)\n",
    "                    delta = [deltax, deltay, deltaz]\n",
    "\n",
    "                    # lamdax = math.sqrt((pt.y - pt2.y)**2 + (pt.z - pt2.z)**2)\n",
    "                    # lamday = math.sqrt((pt.x - pt2.x)**2 + (pt.z - pt2.z)**2)\n",
    "                    # lamdaz = math.sqrt((pt.y - pt2.y)**2 + (pt.x - pt2.x)**2)\n",
    "                    # lamda = [lamdax, lamday, lamdaz]\n",
    "\n",
    "                    # largest = max(lamda + delta)\n",
    "                    # smallest = min(lamda + delta)\n",
    "\n",
    "                    largest = max(delta)\n",
    "                    smallest = min(delta)\n",
    "\n",
    "                    for temp in range(len(delta)):\n",
    "                        # lamda[temp] = ((lamda[temp] - smallest)/(largest - smallest))\n",
    "                        delta[temp] = ((delta[temp] - smallest)/(largest - smallest))\n",
    "                    ft.append(delta)\n",
    "                    # ft.append(lamda)\n",
    "        final.append(ft)\n",
    "    return np.array(final)"
   ]
  },
  {
   "cell_type": "code",
   "execution_count": 7,
   "metadata": {},
   "outputs": [],
   "source": [
    "def Process(result):\n",
    "    processed = dict()\n",
    "\n",
    "    if result.pose_landmarks:\n",
    "        # temp = list(result.pose_landmarks.landmark)[0]\n",
    "        # landmarks = np.array([[(res.x - temp.x), (res.y - temp.y), (res.z - temp.z), res.visibility] for res in result.pose_landmarks.landmark])\n",
    "        landmarks = np.array([[(res.x), (res.y), (res.z), res.visibility] for res in result.pose_landmarks.landmark])\n",
    "    else:\n",
    "        landmarks = np.zeros(33*4)\n",
    "\n",
    "    processed[\"pose\"] = landmarks.flatten()\n",
    "\n",
    "    if result.face_landmarks:\n",
    "        #temp = list(result.face_landmarks.landmark)[0]\n",
    "        # landmarks = np.array([[(res.x - temp.x), (res.y - temp.y), (res.z - temp.z)] for res in result.face_landmarks.landmark])\n",
    "        landmarks = np.array([[(res.x), (res.y), (res.z)] for res in result.face_landmarks.landmark])\n",
    "    else:\n",
    "        landmarks = np.zeros(468*3)\n",
    "\n",
    "    processed[\"face\"] = landmarks.flatten()\n",
    "\n",
    "    if result.right_hand_landmarks:\n",
    "        #temp = list(result.right_hand_landmarks.landmark)[0]\n",
    "        # landmarks = np.array([[(res.x - temp.x), (res.y - temp.y), (res.z - temp.z)] for res in result.right_hand_landmarks.landmark])\n",
    "        landmarks = np.array([[(res.x), (res.y), (res.z)] for res in result.right_hand_landmarks.landmark])\n",
    "    else:\n",
    "        landmarks = np.zeros(21*3)\n",
    "\n",
    "    processed[\"right_hand\"] = landmarks.flatten()\n",
    "\n",
    "    if result.left_hand_landmarks:\n",
    "        #temp = list(result.left_hand_landmarks.landmark)[0]\n",
    "        # landmarks = np.array([[(res.x - temp.x), (res.y - temp.y), (res.z - temp.z)] for res in result.left_hand_landmarks.landmark])\n",
    "        landmarks = np.array([[(res.x), (res.y), (res.z)] for res in result.left_hand_landmarks.landmark])\n",
    "    else:\n",
    "        landmarks = np.zeros(21*3)\n",
    "\n",
    "    processed[\"left_hand\"] = landmarks.flatten()\n",
    "\n",
    "    #return processed\n",
    "    return np.concatenate([processed[\"pose\"], processed[\"face\"], processed[\"left_hand\"], processed[\"right_hand\"]])\n",
    "    # return processed[\"pose\"]"
   ]
  },
  {
   "cell_type": "code",
   "execution_count": 8,
   "metadata": {},
   "outputs": [],
   "source": [
    "def DataCollection(path, frames, videos, actions):\n",
    "    cap = cv2.VideoCapture(0)\n",
    "    fourcc = cv2.VideoWriter_fourcc(*'XVID')\n",
    "\n",
    "    for action in actions:\n",
    "        os.makedirs(os.path.join(path, action))\n",
    "\n",
    "        for video in range(videos):\n",
    "            out = cv2.VideoWriter(os.path.join(path, action, \"vid%s.avi\"%video), fourcc, 25, (640, 480))\n",
    "\n",
    "            for frame in range(frames):\n",
    "                ret, image = cap.read()\n",
    "\n",
    "                if not ret:\n",
    "                    print(os.path.join(path, action, \"vid%s.avi\"%video))\n",
    "                    break\n",
    "\n",
    "                effect = BrightnessContrast(image, 357, 209)\n",
    "\n",
    "                if frame == 0:\n",
    "                    cv2.putText(effect, \"Starting Collection\", (120, 200), cv2.FONT_HERSHEY_SIMPLEX, 1, (0, 255, 0), 4, cv2.LINE_AA)\n",
    "                    cv2.waitKey(2500)\n",
    "                \n",
    "                cv2.putText(effect, \"Collecting frames for {} video number {}\".format(action, video), (15, 12), cv2.FONT_HERSHEY_SIMPLEX, 0.5, (0, 0, 255), 1, cv2.LINE_AA)\n",
    "\n",
    "                out.write(effect)\n",
    "\n",
    "                cv2.imshow(\"OnlyFans!!\", effect)\n",
    "\n",
    "                if cv2.waitKey(10) & 0xFF == ord('q'):\n",
    "                    break\n",
    "\n",
    "    cap.release()\n",
    "    cv2.destroyAllWindows()"
   ]
  },
  {
   "cell_type": "code",
   "execution_count": 9,
   "metadata": {},
   "outputs": [],
   "source": [
    "def run(path):\n",
    "    data = []\n",
    "    video = cv2.VideoCapture(path)\n",
    "    # cv2.namedWindow('test')\n",
    "    # cv2.createTrackbar('Brightness', 'test', 255, 2 * 255, BrightnessContrast) \n",
    "    # cv2.createTrackbar('Contrast', 'test', 127, 2 * 127, BrightnessContrast)\n",
    "    \n",
    "    with mpsolution.Holistic(min_detection_confidence = 0.5, min_tracking_confidence=0.5) as model:\n",
    "        while video.isOpened():\n",
    "            ret, frame = video.read()\n",
    "            if not ret:\n",
    "                print(path)\n",
    "                break\n",
    "        \n",
    "            result1 = detection(frame, model)\n",
    "           # effect = BrightnessContrast(frame, 357, 209)\n",
    "            #result2 = detection(effect, model)\n",
    "\n",
    "            Superimpose(frame, result1)\n",
    "            #Superimpose(effect, result2)\n",
    "        \n",
    "            cv2.imshow(\"OnlyFans!!\", frame)\n",
    "            #cv2.imshow(\"effect\", effect)\n",
    "            data.append(result1)\n",
    "            # np.save(save + \"/\" + str(count), final)\n",
    "\n",
    "            if cv2.waitKey(10) & 0xFF == ord('q'):\n",
    "                break\n",
    "    \n",
    "        video.release()\n",
    "        cv2.destroyAllWindows()\n",
    "        return data"
   ]
  },
  {
   "cell_type": "markdown",
   "metadata": {},
   "source": [
    "video = cv2.VideoCapture(0)\n",
    "# cv2.namedWindow('test')\n",
    "# cv2.createTrackbar('Brightness', 'test', 255, 2 * 255, BrightnessContrast) \n",
    "# cv2.createTrackbar('Contrast', 'test', 127, 2 * 127, BrightnessContrast)\n",
    "    \n",
    "with mpsolution.Holistic(min_detection_confidence = 0.5, min_tracking_confidence=0.5) as model:\n",
    "    while video.isOpened():\n",
    "        ret, frame = video.read()\n",
    "        if not ret:\n",
    "            print(\"Can't receive frame (stream end?). Exiting ...\")\n",
    "            break\n",
    "        \n",
    "        # result1 = detection(frame, model)\n",
    "        effect = BrightnessContrast(frame, 357, 209)\n",
    "        # result2 = detection(effect, model)\n",
    "\n",
    "        #Superimpose(frame, result1)\n",
    "        # Superimpose(effect, result2)\n",
    "        \n",
    "        cv2.imshow(\"OnlyFans!!\", frame)\n",
    "        cv2.imshow(\"effect\", effect)\n",
    "\n",
    "        if cv2.waitKey(10) & 0xFF == ord('q'):\n",
    "            break\n",
    "    \n",
    "    video.release()\n",
    "    cv2.destroyAllWindows()"
   ]
  },
  {
   "cell_type": "code",
   "execution_count": 10,
   "metadata": {},
   "outputs": [],
   "source": [
    "with open(\"missing.txt\") as f:\n",
    "    missing = f.readlines()\n",
    "    missing = [temp.rstrip(\"\\n\") for temp in missing]\n",
    "    \n",
    "with open(\"exercise.json\") as f:\n",
    "    temp = json.load(f)\n",
    "    data = dict()\n",
    "    count = 0\n",
    "    for i in range(len(temp)):\n",
    "        temp2 = temp[i][\"instances\"].copy()\n",
    "        for x in temp[i][\"instances\"]:\n",
    "            if missing.count(x[\"video_id\"]) > 0:\n",
    "                temp2.remove(x)\n",
    "                count += 1\n",
    "        data[temp[i][\"gloss\"]] = [(temp3[\"video_id\"], temp3[\"frame_start\"], temp3[\"frame_end\"]) for temp3 in temp2]\n"
   ]
  },
  {
   "cell_type": "code",
   "execution_count": 11,
   "metadata": {},
   "outputs": [
    {
     "data": {
      "image/png": "[encoded data removed]",
      "text/plain": [
       "<Figure size 432x288 with 1 Axes>"
      ]
     },
     "metadata": {
      "needs_background": "light"
     },
     "output_type": "display_data"
    }
   ],
   "source": [
    "data.keys()\n",
    "actions = {temp : data[temp] for temp in data}\n",
    "plt.bar(list(actions.keys()), list(len(temp) for temp in actions.values()), align='center')\n",
    "plt.xticks(range(len(actions)), list(actions.keys()))\n",
    "\n",
    "plt.show()\n"
   ]
  },
  {
   "cell_type": "code",
   "execution_count": 17,
   "metadata": {},
   "outputs": [
    {
     "name": "stdout",
     "output_type": "stream",
     "text": [
      "C:/Users/kevin/OneDrive/Documents/Year4/ECNG3020/Code/data/videos/0000.mp4\n"
     ]
    }
   ],
   "source": [
    "data = run(\"C:/Users/kevin/OneDrive/Documents/Year4/ECNG3020/Code/data/videos/0000.mp4\")\n",
    "final = ProcessPaper(data)"
   ]
  },
  {
   "cell_type": "code",
   "execution_count": 15,
   "metadata": {},
   "outputs": [
    {
     "data": {
      "text/plain": [
       "(57, 1056, 3)"
      ]
     },
     "execution_count": 15,
     "metadata": {},
     "output_type": "execute_result"
    }
   ],
   "source": [
    "final.shape"
   ]
  },
  {
   "cell_type": "code",
   "execution_count": 16,
   "metadata": {},
   "outputs": [
    {
     "data": {
      "image/png": "[encoded data removed]",
      "text/plain": [
       "<Figure size 432x288 with 1 Axes>"
      ]
     },
     "metadata": {
      "needs_background": "light"
     },
     "output_type": "display_data"
    }
   ],
   "source": [
    "plt.imshow(final, interpolation='nearest')\n",
    "plt.show()"
   ]
  },
  {
   "cell_type": "code",
   "execution_count": 15,
   "metadata": {},
   "outputs": [
    {
     "name": "stdout",
     "output_type": "stream",
     "text": [
      "C:/Users/kevin/OneDrive/Documents/Year4/ECNG3020/Code/data/videos/0000.mp4\n",
      "C:/Users/kevin/OneDrive/Documents/Year4/ECNG3020/Code/data/videos/0001.mp4\n",
      "C:/Users/kevin/OneDrive/Documents/Year4/ECNG3020/Code/data/videos/0002.mp4\n",
      "C:/Users/kevin/OneDrive/Documents/Year4/ECNG3020/Code/data/videos/0003.mp4\n",
      "C:/Users/kevin/OneDrive/Documents/Year4/ECNG3020/Code/data/videos/0004.mp4\n",
      "C:/Users/kevin/OneDrive/Documents/Year4/ECNG3020/Code/data/videos/0005.mp4\n",
      "C:/Users/kevin/OneDrive/Documents/Year4/ECNG3020/Code/data/videos/0006.mp4\n",
      "C:/Users/kevin/OneDrive/Documents/Year4/ECNG3020/Code/data/videos/0007.mp4\n",
      "C:/Users/kevin/OneDrive/Documents/Year4/ECNG3020/Code/data/videos/0008.mp4\n",
      "C:/Users/kevin/OneDrive/Documents/Year4/ECNG3020/Code/data/videos/0009.mp4\n",
      "C:/Users/kevin/OneDrive/Documents/Year4/ECNG3020/Code/data/videos/0010.mp4\n",
      "C:/Users/kevin/OneDrive/Documents/Year4/ECNG3020/Code/data/videos/0011.mp4\n",
      "C:/Users/kevin/OneDrive/Documents/Year4/ECNG3020/Code/data/videos/0012.mp4\n",
      "C:/Users/kevin/OneDrive/Documents/Year4/ECNG3020/Code/data/videos/0013.mp4\n",
      "C:/Users/kevin/OneDrive/Documents/Year4/ECNG3020/Code/data/videos/0014.mp4\n",
      "C:/Users/kevin/OneDrive/Documents/Year4/ECNG3020/Code/data/videos/0015.mp4\n",
      "C:/Users/kevin/OneDrive/Documents/Year4/ECNG3020/Code/data/videos/0016.mp4\n",
      "C:/Users/kevin/OneDrive/Documents/Year4/ECNG3020/Code/data/videos/0017.mp4\n",
      "C:/Users/kevin/OneDrive/Documents/Year4/ECNG3020/Code/data/videos/0018.mp4\n",
      "C:/Users/kevin/OneDrive/Documents/Year4/ECNG3020/Code/data/videos/0019.mp4\n",
      "C:/Users/kevin/OneDrive/Documents/Year4/ECNG3020/Code/data/videos/0020.mp4\n",
      "C:/Users/kevin/OneDrive/Documents/Year4/ECNG3020/Code/data/videos/0021.mp4\n",
      "C:/Users/kevin/OneDrive/Documents/Year4/ECNG3020/Code/data/videos/0022.mp4\n",
      "C:/Users/kevin/OneDrive/Documents/Year4/ECNG3020/Code/data/videos/0023.mp4\n",
      "C:/Users/kevin/OneDrive/Documents/Year4/ECNG3020/Code/data/videos/0024.mp4\n",
      "C:/Users/kevin/OneDrive/Documents/Year4/ECNG3020/Code/data/videos/0025.mp4\n",
      "C:/Users/kevin/OneDrive/Documents/Year4/ECNG3020/Code/data/videos/0026.mp4\n",
      "C:/Users/kevin/OneDrive/Documents/Year4/ECNG3020/Code/data/videos/0027.mp4\n",
      "C:/Users/kevin/OneDrive/Documents/Year4/ECNG3020/Code/data/videos/0028.mp4\n",
      "C:/Users/kevin/OneDrive/Documents/Year4/ECNG3020/Code/data/videos/0029.mp4\n",
      "C:/Users/kevin/OneDrive/Documents/Year4/ECNG3020/Code/data/videos/0030.mp4\n",
      "C:/Users/kevin/OneDrive/Documents/Year4/ECNG3020/Code/data/videos/0031.mp4\n",
      "C:/Users/kevin/OneDrive/Documents/Year4/ECNG3020/Code/data/videos/0032.mp4\n",
      "C:/Users/kevin/OneDrive/Documents/Year4/ECNG3020/Code/data/videos/0033.mp4\n",
      "C:/Users/kevin/OneDrive/Documents/Year4/ECNG3020/Code/data/videos/0034.mp4\n",
      "C:/Users/kevin/OneDrive/Documents/Year4/ECNG3020/Code/data/videos/0035.mp4\n",
      "C:/Users/kevin/OneDrive/Documents/Year4/ECNG3020/Code/data/videos/0036.mp4\n",
      "C:/Users/kevin/OneDrive/Documents/Year4/ECNG3020/Code/data/videos/0037.mp4\n",
      "C:/Users/kevin/OneDrive/Documents/Year4/ECNG3020/Code/data/videos/0038.mp4\n",
      "C:/Users/kevin/OneDrive/Documents/Year4/ECNG3020/Code/data/videos/0039.mp4\n",
      "C:/Users/kevin/OneDrive/Documents/Year4/ECNG3020/Code/data/videos/0040.mp4\n",
      "C:/Users/kevin/OneDrive/Documents/Year4/ECNG3020/Code/data/videos/0041.mp4\n",
      "C:/Users/kevin/OneDrive/Documents/Year4/ECNG3020/Code/data/videos/0042.mp4\n",
      "C:/Users/kevin/OneDrive/Documents/Year4/ECNG3020/Code/data/videos/0043.mp4\n",
      "C:/Users/kevin/OneDrive/Documents/Year4/ECNG3020/Code/data/videos/0044.mp4\n",
      "C:/Users/kevin/OneDrive/Documents/Year4/ECNG3020/Code/data/videos/0045.mp4\n",
      "C:/Users/kevin/OneDrive/Documents/Year4/ECNG3020/Code/data/videos/0046.mp4\n",
      "C:/Users/kevin/OneDrive/Documents/Year4/ECNG3020/Code/data/videos/0047.mp4\n",
      "C:/Users/kevin/OneDrive/Documents/Year4/ECNG3020/Code/data/videos/0048.mp4\n",
      "C:/Users/kevin/OneDrive/Documents/Year4/ECNG3020/Code/data/videos/0049.mp4\n",
      "C:/Users/kevin/OneDrive/Documents/Year4/ECNG3020/Code/data/videos/0050.mp4\n",
      "C:/Users/kevin/OneDrive/Documents/Year4/ECNG3020/Code/data/videos/0051.mp4\n",
      "C:/Users/kevin/OneDrive/Documents/Year4/ECNG3020/Code/data/videos/0052.mp4\n",
      "C:/Users/kevin/OneDrive/Documents/Year4/ECNG3020/Code/data/videos/0053.mp4\n",
      "C:/Users/kevin/OneDrive/Documents/Year4/ECNG3020/Code/data/videos/0054.mp4\n",
      "C:/Users/kevin/OneDrive/Documents/Year4/ECNG3020/Code/data/videos/0055.mp4\n",
      "C:/Users/kevin/OneDrive/Documents/Year4/ECNG3020/Code/data/videos/0056.mp4\n",
      "C:/Users/kevin/OneDrive/Documents/Year4/ECNG3020/Code/data/videos/0057.mp4\n",
      "C:/Users/kevin/OneDrive/Documents/Year4/ECNG3020/Code/data/videos/0058.mp4\n",
      "C:/Users/kevin/OneDrive/Documents/Year4/ECNG3020/Code/data/videos/0059.mp4\n",
      "C:/Users/kevin/OneDrive/Documents/Year4/ECNG3020/Code/data/videos/0060.mp4\n",
      "C:/Users/kevin/OneDrive/Documents/Year4/ECNG3020/Code/data/videos/0061.mp4\n"
     ]
    }
   ],
   "source": [
    "for action in actions:\n",
    "    os.mkdir(\"videos/%s\"%action)\n",
    "    for instance in actions[action]:\n",
    "        data = run(\"C:/Users/kevin/OneDrive/Documents/Year4/ECNG3020/Code/data/videos/%s.mp4\"%instance[0])\n",
    "        final = ProcessPaper(data)\n",
    "        np.save(\"videos/%s/%s\"%(action, instance[0]), final)"
   ]
  },
  {
   "cell_type": "code",
   "execution_count": 16,
   "metadata": {},
   "outputs": [],
   "source": [
    "# DataCollection(\"C:\\\\Users\\\\kevin\\\\OneDrive\\\\Documents\\\\Year4\\\\ECNG3020\\\\Code\\\\data\\\\myvids\", 70, 30, [\"test\"])"
   ]
  },
  {
   "cell_type": "code",
   "execution_count": 17,
   "metadata": {},
   "outputs": [
    {
     "name": "stdout",
     "output_type": "stream",
     "text": [
      "C:\\Users\\kevin\\OneDrive\\Documents\\Year4\\ECNG3020\\Code\\data\\myvids\\jack\\vid1.avi\n",
      "C:\\Users\\kevin\\OneDrive\\Documents\\Year4\\ECNG3020\\Code\\data\\myvids\\jack\\vid10.avi\n",
      "C:\\Users\\kevin\\OneDrive\\Documents\\Year4\\ECNG3020\\Code\\data\\myvids\\jack\\vid11.avi\n",
      "C:\\Users\\kevin\\OneDrive\\Documents\\Year4\\ECNG3020\\Code\\data\\myvids\\jack\\vid12.avi\n",
      "C:\\Users\\kevin\\OneDrive\\Documents\\Year4\\ECNG3020\\Code\\data\\myvids\\jack\\vid13.avi\n",
      "C:\\Users\\kevin\\OneDrive\\Documents\\Year4\\ECNG3020\\Code\\data\\myvids\\jack\\vid14.avi\n",
      "C:\\Users\\kevin\\OneDrive\\Documents\\Year4\\ECNG3020\\Code\\data\\myvids\\jack\\vid15.avi\n",
      "C:\\Users\\kevin\\OneDrive\\Documents\\Year4\\ECNG3020\\Code\\data\\myvids\\jack\\vid16.avi\n",
      "C:\\Users\\kevin\\OneDrive\\Documents\\Year4\\ECNG3020\\Code\\data\\myvids\\jack\\vid17.avi\n",
      "C:\\Users\\kevin\\OneDrive\\Documents\\Year4\\ECNG3020\\Code\\data\\myvids\\jack\\vid18.avi\n",
      "C:\\Users\\kevin\\OneDrive\\Documents\\Year4\\ECNG3020\\Code\\data\\myvids\\jack\\vid19.avi\n",
      "C:\\Users\\kevin\\OneDrive\\Documents\\Year4\\ECNG3020\\Code\\data\\myvids\\jack\\vid2.avi\n",
      "C:\\Users\\kevin\\OneDrive\\Documents\\Year4\\ECNG3020\\Code\\data\\myvids\\jack\\vid20.avi\n",
      "C:\\Users\\kevin\\OneDrive\\Documents\\Year4\\ECNG3020\\Code\\data\\myvids\\jack\\vid21.avi\n",
      "C:\\Users\\kevin\\OneDrive\\Documents\\Year4\\ECNG3020\\Code\\data\\myvids\\jack\\vid22.avi\n",
      "C:\\Users\\kevin\\OneDrive\\Documents\\Year4\\ECNG3020\\Code\\data\\myvids\\jack\\vid23.avi\n",
      "C:\\Users\\kevin\\OneDrive\\Documents\\Year4\\ECNG3020\\Code\\data\\myvids\\jack\\vid24.avi\n",
      "C:\\Users\\kevin\\OneDrive\\Documents\\Year4\\ECNG3020\\Code\\data\\myvids\\jack\\vid25.avi\n",
      "C:\\Users\\kevin\\OneDrive\\Documents\\Year4\\ECNG3020\\Code\\data\\myvids\\jack\\vid26.avi\n",
      "C:\\Users\\kevin\\OneDrive\\Documents\\Year4\\ECNG3020\\Code\\data\\myvids\\jack\\vid27.avi\n",
      "C:\\Users\\kevin\\OneDrive\\Documents\\Year4\\ECNG3020\\Code\\data\\myvids\\jack\\vid28.avi\n",
      "C:\\Users\\kevin\\OneDrive\\Documents\\Year4\\ECNG3020\\Code\\data\\myvids\\jack\\vid29.avi\n",
      "C:\\Users\\kevin\\OneDrive\\Documents\\Year4\\ECNG3020\\Code\\data\\myvids\\jack\\vid3.avi\n",
      "C:\\Users\\kevin\\OneDrive\\Documents\\Year4\\ECNG3020\\Code\\data\\myvids\\jack\\vid4.avi\n",
      "C:\\Users\\kevin\\OneDrive\\Documents\\Year4\\ECNG3020\\Code\\data\\myvids\\jack\\vid5.avi\n",
      "C:\\Users\\kevin\\OneDrive\\Documents\\Year4\\ECNG3020\\Code\\data\\myvids\\jack\\vid6.avi\n",
      "C:\\Users\\kevin\\OneDrive\\Documents\\Year4\\ECNG3020\\Code\\data\\myvids\\jack\\vid7.avi\n",
      "C:\\Users\\kevin\\OneDrive\\Documents\\Year4\\ECNG3020\\Code\\data\\myvids\\jack\\vid8.avi\n",
      "C:\\Users\\kevin\\OneDrive\\Documents\\Year4\\ECNG3020\\Code\\data\\myvids\\jack\\vid9.avi\n",
      "C:\\Users\\kevin\\OneDrive\\Documents\\Year4\\ECNG3020\\Code\\data\\myvids\\squats\\vid1.avi\n",
      "C:\\Users\\kevin\\OneDrive\\Documents\\Year4\\ECNG3020\\Code\\data\\myvids\\squats\\vid10.avi\n",
      "C:\\Users\\kevin\\OneDrive\\Documents\\Year4\\ECNG3020\\Code\\data\\myvids\\squats\\vid11.avi\n",
      "C:\\Users\\kevin\\OneDrive\\Documents\\Year4\\ECNG3020\\Code\\data\\myvids\\squats\\vid12.avi\n",
      "C:\\Users\\kevin\\OneDrive\\Documents\\Year4\\ECNG3020\\Code\\data\\myvids\\squats\\vid13.avi\n",
      "C:\\Users\\kevin\\OneDrive\\Documents\\Year4\\ECNG3020\\Code\\data\\myvids\\squats\\vid14.avi\n",
      "C:\\Users\\kevin\\OneDrive\\Documents\\Year4\\ECNG3020\\Code\\data\\myvids\\squats\\vid15.avi\n",
      "C:\\Users\\kevin\\OneDrive\\Documents\\Year4\\ECNG3020\\Code\\data\\myvids\\squats\\vid16.avi\n",
      "C:\\Users\\kevin\\OneDrive\\Documents\\Year4\\ECNG3020\\Code\\data\\myvids\\squats\\vid17.avi\n",
      "C:\\Users\\kevin\\OneDrive\\Documents\\Year4\\ECNG3020\\Code\\data\\myvids\\squats\\vid18.avi\n",
      "C:\\Users\\kevin\\OneDrive\\Documents\\Year4\\ECNG3020\\Code\\data\\myvids\\squats\\vid19.avi\n",
      "C:\\Users\\kevin\\OneDrive\\Documents\\Year4\\ECNG3020\\Code\\data\\myvids\\squats\\vid2.avi\n",
      "C:\\Users\\kevin\\OneDrive\\Documents\\Year4\\ECNG3020\\Code\\data\\myvids\\squats\\vid20.avi\n",
      "C:\\Users\\kevin\\OneDrive\\Documents\\Year4\\ECNG3020\\Code\\data\\myvids\\squats\\vid21.avi\n",
      "C:\\Users\\kevin\\OneDrive\\Documents\\Year4\\ECNG3020\\Code\\data\\myvids\\squats\\vid22.avi\n",
      "C:\\Users\\kevin\\OneDrive\\Documents\\Year4\\ECNG3020\\Code\\data\\myvids\\squats\\vid23.avi\n",
      "C:\\Users\\kevin\\OneDrive\\Documents\\Year4\\ECNG3020\\Code\\data\\myvids\\squats\\vid24.avi\n",
      "C:\\Users\\kevin\\OneDrive\\Documents\\Year4\\ECNG3020\\Code\\data\\myvids\\squats\\vid25.avi\n",
      "C:\\Users\\kevin\\OneDrive\\Documents\\Year4\\ECNG3020\\Code\\data\\myvids\\squats\\vid26.avi\n",
      "C:\\Users\\kevin\\OneDrive\\Documents\\Year4\\ECNG3020\\Code\\data\\myvids\\squats\\vid27.avi\n",
      "C:\\Users\\kevin\\OneDrive\\Documents\\Year4\\ECNG3020\\Code\\data\\myvids\\squats\\vid28.avi\n",
      "C:\\Users\\kevin\\OneDrive\\Documents\\Year4\\ECNG3020\\Code\\data\\myvids\\squats\\vid29.avi\n",
      "C:\\Users\\kevin\\OneDrive\\Documents\\Year4\\ECNG3020\\Code\\data\\myvids\\squats\\vid3.avi\n",
      "C:\\Users\\kevin\\OneDrive\\Documents\\Year4\\ECNG3020\\Code\\data\\myvids\\squats\\vid4.avi\n",
      "C:\\Users\\kevin\\OneDrive\\Documents\\Year4\\ECNG3020\\Code\\data\\myvids\\squats\\vid5.avi\n",
      "C:\\Users\\kevin\\OneDrive\\Documents\\Year4\\ECNG3020\\Code\\data\\myvids\\squats\\vid6.avi\n",
      "C:\\Users\\kevin\\OneDrive\\Documents\\Year4\\ECNG3020\\Code\\data\\myvids\\squats\\vid7.avi\n",
      "C:\\Users\\kevin\\OneDrive\\Documents\\Year4\\ECNG3020\\Code\\data\\myvids\\squats\\vid8.avi\n",
      "C:\\Users\\kevin\\OneDrive\\Documents\\Year4\\ECNG3020\\Code\\data\\myvids\\squats\\vid9.avi\n"
     ]
    }
   ],
   "source": [
    "for action in actions:\n",
    "    for filename in os.listdir(\"C:\\\\Users\\\\kevin\\\\OneDrive\\\\Documents\\\\Year4\\\\ECNG3020\\\\Code\\\\data\\\\myvids\\\\%s\"%action):\n",
    "        path = os.path.join(\"C:\\\\Users\\\\kevin\\\\OneDrive\\\\Documents\\\\Year4\\\\ECNG3020\\\\Code\\\\data\\\\myvids\\\\%s\"%action, filename)\n",
    "        data = run(path)\n",
    "        final = ProcessPaper(data)\n",
    "        np.save(\"videos/%s/%s\"%(action, filename[:-4]), final)"
   ]
  },
  {
   "cell_type": "code",
   "execution_count": 12,
   "metadata": {},
   "outputs": [
    {
     "data": {
      "text/plain": [
       "{'jack': 0, 'squats': 1}"
      ]
     },
     "execution_count": 12,
     "metadata": {},
     "output_type": "execute_result"
    }
   ],
   "source": [
    "label_map = {label: num for num, label in enumerate(actions)}\n",
    "label_map"
   ]
  },
  {
   "cell_type": "code",
   "execution_count": 13,
   "metadata": {},
   "outputs": [
    {
     "name": "stdout",
     "output_type": "stream",
     "text": [
      "120\n"
     ]
    }
   ],
   "source": [
    "count = 0\n",
    "for action in actions:\n",
    "    for video in os.listdir(\"videos/%s\"%action):\n",
    "        count += 1\n",
    "print(count)\n"
   ]
  },
  {
   "cell_type": "code",
   "execution_count": 85,
   "metadata": {},
   "outputs": [
    {
     "name": "stdout",
     "output_type": "stream",
     "text": [
      "(57, 2112, 3)\n",
      "(27, 2112, 3)\n",
      "(26, 2112, 3)\n",
      "(30, 2112, 3)\n",
      "(27, 2112, 3)\n",
      "(40, 2112, 3)\n",
      "(42, 2112, 3)\n",
      "(26, 2112, 3)\n",
      "(27, 2112, 3)\n",
      "(43, 2112, 3)\n",
      "(27, 2112, 3)\n",
      "(27, 2112, 3)\n",
      "(32, 2112, 3)\n",
      "(26, 2112, 3)\n",
      "(22, 2112, 3)\n",
      "(22, 2112, 3)\n",
      "(22, 2112, 3)\n",
      "(36, 2112, 3)\n",
      "(22, 2112, 3)\n",
      "(31, 2112, 3)\n",
      "(24, 2112, 3)\n",
      "(30, 2112, 3)\n",
      "(33, 2112, 3)\n",
      "(31, 2112, 3)\n",
      "(31, 2112, 3)\n",
      "(13, 2112, 3)\n",
      "(28, 2112, 3)\n",
      "(26, 2112, 3)\n",
      "(23, 2112, 3)\n",
      "(21, 2112, 3)\n",
      "(11, 2112, 3)\n",
      "(60, 2112, 3)\n",
      "(60, 2112, 3)\n",
      "(60, 2112, 3)\n",
      "(60, 2112, 3)\n",
      "(60, 2112, 3)\n",
      "(60, 2112, 3)\n",
      "(60, 2112, 3)\n",
      "(60, 2112, 3)\n",
      "(60, 2112, 3)\n",
      "(60, 2112, 3)\n",
      "(60, 2112, 3)\n",
      "(60, 2112, 3)\n",
      "(60, 2112, 3)\n",
      "(60, 2112, 3)\n",
      "(60, 2112, 3)\n",
      "(60, 2112, 3)\n",
      "(60, 2112, 3)\n",
      "(60, 2112, 3)\n",
      "(60, 2112, 3)\n",
      "(60, 2112, 3)\n",
      "(60, 2112, 3)\n",
      "(60, 2112, 3)\n",
      "(60, 2112, 3)\n",
      "(60, 2112, 3)\n",
      "(60, 2112, 3)\n",
      "(60, 2112, 3)\n",
      "(60, 2112, 3)\n",
      "(60, 2112, 3)\n",
      "(60, 2112, 3)\n",
      "(111, 2112, 3)\n",
      "(91, 2112, 3)\n",
      "(121, 2112, 3)\n",
      "(109, 2112, 3)\n",
      "(97, 2112, 3)\n",
      "(103, 2112, 3)\n",
      "(122, 2112, 3)\n",
      "(64, 2112, 3)\n",
      "(47, 2112, 3)\n",
      "(38, 2112, 3)\n",
      "(50, 2112, 3)\n",
      "(50, 2112, 3)\n",
      "(51, 2112, 3)\n",
      "(76, 2112, 3)\n",
      "(51, 2112, 3)\n",
      "(76, 2112, 3)\n",
      "(76, 2112, 3)\n",
      "(121, 2112, 3)\n",
      "(79, 2112, 3)\n",
      "(61, 2112, 3)\n",
      "(61, 2112, 3)\n",
      "(67, 2112, 3)\n",
      "(49, 2112, 3)\n",
      "(43, 2112, 3)\n",
      "(61, 2112, 3)\n",
      "(42, 2112, 3)\n",
      "(74, 2112, 3)\n",
      "(83, 2112, 3)\n",
      "(74, 2112, 3)\n",
      "(83, 2112, 3)\n",
      "(66, 2112, 3)\n",
      "(60, 2112, 3)\n",
      "(60, 2112, 3)\n",
      "(60, 2112, 3)\n",
      "(60, 2112, 3)\n",
      "(60, 2112, 3)\n",
      "(60, 2112, 3)\n",
      "(60, 2112, 3)\n",
      "(60, 2112, 3)\n",
      "(60, 2112, 3)\n",
      "(60, 2112, 3)\n",
      "(60, 2112, 3)\n",
      "(60, 2112, 3)\n",
      "(60, 2112, 3)\n",
      "(60, 2112, 3)\n",
      "(60, 2112, 3)\n",
      "(60, 2112, 3)\n",
      "(60, 2112, 3)\n",
      "(60, 2112, 3)\n",
      "(60, 2112, 3)\n",
      "(60, 2112, 3)\n",
      "(60, 2112, 3)\n",
      "(60, 2112, 3)\n",
      "(60, 2112, 3)\n",
      "(60, 2112, 3)\n",
      "(60, 2112, 3)\n",
      "(60, 2112, 3)\n",
      "(60, 2112, 3)\n",
      "(60, 2112, 3)\n",
      "(60, 2112, 3)\n"
     ]
    }
   ],
   "source": [
    "sequences, labels = [], []\n",
    "for action in actions:\n",
    "    for video in os.listdir(\"test2112/%s\"%action):\n",
    "        temp = []\n",
    "        vid = np.load(\"test2112/%s/%s\"%(action, video))\n",
    "        print(vid.shape)\n",
    "        sequences.append(vid)\n",
    "        labels.append(label_map[action])\n"
   ]
  },
  {
   "cell_type": "markdown",
   "metadata": {},
   "source": [
    "sequences, labels = [], []\n",
    "for action in actions:\n",
    "    for video in os.listdir(\"videos/%s\"%action):\n",
    "        temp = []\n",
    "        vid = np.load(\"videos/%s/%s\"%(action, filename))\n",
    "        if vid.shape[1] != 2112:\n",
    "            print(\"ERROR IN videos/%s/%s\"%(action, filename))\n",
    "        sequences.append(vid)\n",
    "        labels.append(label_map[action])\n"
   ]
  },
  {
   "cell_type": "code",
   "execution_count": 89,
   "metadata": {},
   "outputs": [],
   "source": [
    "x = []\n",
    "# full = max([len(i) for i in sequences])\n",
    "full = 122\n",
    "for vid in sequences:\n",
    "    temp = np.copy(vid)\n",
    "    if len(vid) < full:\n",
    "        for i in range(full - len(vid)):\n",
    "            temp = np.append(temp, np.zeros((2112, 3), float))\n",
    "    temp = np.reshape(temp, (full, 2112, 3))\n",
    "    # print(temp.shape)\n",
    "    # plt.imshow(temp, interpolation='nearest')\n",
    "    # plt.show()\n",
    "    # temp2 = inception_v3.preprocess_input(temp)\n",
    "    x.append(temp)\n"
   ]
  },
  {
   "cell_type": "code",
   "execution_count": 90,
   "metadata": {},
   "outputs": [],
   "source": [
    "x = np.array(x)\n",
    "y = to_categorical(labels).astype(int)"
   ]
  },
  {
   "cell_type": "code",
   "execution_count": 91,
   "metadata": {},
   "outputs": [
    {
     "data": {
      "text/plain": [
       "(120, 122, 2112, 3)"
      ]
     },
     "execution_count": 91,
     "metadata": {},
     "output_type": "execute_result"
    }
   ],
   "source": [
    "x.shape"
   ]
  },
  {
   "cell_type": "code",
   "execution_count": 92,
   "metadata": {},
   "outputs": [],
   "source": [
    "x_train, x_test, y_train, y_test = train_test_split(x, y, test_size=0.25)"
   ]
  },
  {
   "cell_type": "code",
   "execution_count": 76,
   "metadata": {},
   "outputs": [
    {
     "data": {
      "text/plain": [
       "(90, 122, 1056, 3)"
      ]
     },
     "execution_count": 76,
     "metadata": {},
     "output_type": "execute_result"
    }
   ],
   "source": [
    "x_train.shape"
   ]
  },
  {
   "cell_type": "code",
   "execution_count": 20,
   "metadata": {},
   "outputs": [],
   "source": [
    "log_dir = os.path.join('Logs')\n",
    "tb_callback = TensorBoard(log_dir=log_dir)"
   ]
  },
  {
   "cell_type": "code",
   "execution_count": 32,
   "metadata": {},
   "outputs": [],
   "source": [
    "model2 = Sequential()\n",
    "model2.add(inception_v3.InceptionV3(include_top=False, weights='imagenet', input_tensor=Input(shape=(122, 1056, 3)), pooling='avg', classifier_activation='softmax'))\n",
    "for layer in model2.layers:\n",
    "    layer.trainable = False\n",
    "model2.add(Dense(128, activation='relu'))\n",
    "model2.add(Dense(64, activation='relu'))\n",
    "model2.add(Dense(32, activation='relu'))\n",
    "model2.add(Dense(2, activation='softmax'))\n",
    "model2.compile(optimizer='Adam', loss='categorical_crossentropy', metrics=['categorical_accuracy'])"
   ]
  },
  {
   "cell_type": "markdown",
   "metadata": {},
   "source": [
    "model1 = Sequential()\n",
    "model1.add(LSTM(64, return_sequences=True, activation='relu', input_shape=(30, 1662)))\n",
    "model1.add(LSTM(128, return_sequences=True, activation='relu'))\n",
    "model1.add(LSTM(64, return_sequences=False, activation='relu'))\n",
    "model1.add(Dense(64, activation='relu'))\n",
    "model1.add(Dense(32, activation='relu'))\n",
    "model1.add(Dense(3, activation='softmax'))\n",
    "model1.compile(optimizer='Adam', loss='categorical_crossentropy', metrics=['categorical_accuracy'])"
   ]
  },
  {
   "cell_type": "code",
   "execution_count": 37,
   "metadata": {},
   "outputs": [
    {
     "name": "stdout",
     "output_type": "stream",
     "text": [
      "Epoch 1/30\n",
      "3/3 [==============================] - 14s 2s/step - loss: 0.5999 - categorical_accuracy: 0.6444\n",
      "Epoch 2/30\n",
      "3/3 [==============================] - 1s 398ms/step - loss: 0.2920 - categorical_accuracy: 0.8778\n",
      "Epoch 3/30\n",
      "3/3 [==============================] - 1s 387ms/step - loss: 0.1464 - categorical_accuracy: 0.9667\n",
      "Epoch 4/30\n",
      "3/3 [==============================] - 1s 396ms/step - loss: 0.0969 - categorical_accuracy: 0.9667\n",
      "Epoch 5/30\n",
      "3/3 [==============================] - 1s 372ms/step - loss: 0.0607 - categorical_accuracy: 0.9667\n",
      "Epoch 6/30\n",
      "3/3 [==============================] - 1s 402ms/step - loss: 0.0558 - categorical_accuracy: 0.9889\n",
      "Epoch 7/30\n",
      "3/3 [==============================] - 1s 400ms/step - loss: 0.0392 - categorical_accuracy: 0.9889\n",
      "Epoch 8/30\n",
      "3/3 [==============================] - 1s 407ms/step - loss: 0.0140 - categorical_accuracy: 1.0000\n",
      "Epoch 9/30\n",
      "3/3 [==============================] - 1s 402ms/step - loss: 0.0093 - categorical_accuracy: 1.0000\n",
      "Epoch 10/30\n",
      "3/3 [==============================] - 1s 393ms/step - loss: 0.0054 - categorical_accuracy: 1.0000\n",
      "Epoch 11/30\n",
      "3/3 [==============================] - 1s 383ms/step - loss: 0.0045 - categorical_accuracy: 1.0000\n",
      "Epoch 12/30\n",
      "3/3 [==============================] - 1s 387ms/step - loss: 0.0025 - categorical_accuracy: 1.0000\n",
      "Epoch 13/30\n",
      "3/3 [==============================] - 1s 380ms/step - loss: 0.0016 - categorical_accuracy: 1.0000\n",
      "Epoch 14/30\n",
      "3/3 [==============================] - 1s 383ms/step - loss: 0.0013 - categorical_accuracy: 1.0000\n",
      "Epoch 15/30\n",
      "3/3 [==============================] - 1s 398ms/step - loss: 0.0010 - categorical_accuracy: 1.0000\n",
      "Epoch 16/30\n",
      "3/3 [==============================] - 1s 392ms/step - loss: 9.0098e-04 - categorical_accuracy: 1.0000\n",
      "Epoch 17/30\n",
      "3/3 [==============================] - 1s 389ms/step - loss: 7.6381e-04 - categorical_accuracy: 1.0000\n",
      "Epoch 18/30\n",
      "3/3 [==============================] - 1s 386ms/step - loss: 7.0464e-04 - categorical_accuracy: 1.0000\n",
      "Epoch 19/30\n",
      "3/3 [==============================] - 1s 382ms/step - loss: 6.4353e-04 - categorical_accuracy: 1.0000\n",
      "Epoch 20/30\n",
      "3/3 [==============================] - 1s 397ms/step - loss: 5.9977e-04 - categorical_accuracy: 1.0000\n",
      "Epoch 21/30\n",
      "3/3 [==============================] - 1s 407ms/step - loss: 5.6054e-04 - categorical_accuracy: 1.0000\n",
      "Epoch 22/30\n",
      "3/3 [==============================] - 1s 377ms/step - loss: 5.2353e-04 - categorical_accuracy: 1.0000\n",
      "Epoch 23/30\n",
      "3/3 [==============================] - 1s 383ms/step - loss: 5.0392e-04 - categorical_accuracy: 1.0000\n",
      "Epoch 24/30\n",
      "3/3 [==============================] - 1s 380ms/step - loss: 4.7699e-04 - categorical_accuracy: 1.0000\n",
      "Epoch 25/30\n",
      "3/3 [==============================] - 1s 382ms/step - loss: 4.5458e-04 - categorical_accuracy: 1.0000\n",
      "Epoch 26/30\n",
      "3/3 [==============================] - 1s 373ms/step - loss: 4.3373e-04 - categorical_accuracy: 1.0000\n",
      "Epoch 27/30\n",
      "3/3 [==============================] - 1s 384ms/step - loss: 4.1843e-04 - categorical_accuracy: 1.0000\n",
      "Epoch 28/30\n",
      "3/3 [==============================] - 1s 380ms/step - loss: 3.9964e-04 - categorical_accuracy: 1.0000\n",
      "Epoch 29/30\n",
      "3/3 [==============================] - 1s 382ms/step - loss: 3.8428e-04 - categorical_accuracy: 1.0000\n",
      "Epoch 30/30\n",
      "3/3 [==============================] - 1s 374ms/step - loss: 3.6923e-04 - categorical_accuracy: 1.0000\n"
     ]
    },
    {
     "data": {
      "text/plain": [
       "<keras.callbacks.History at 0x1fc0e937d60>"
      ]
     },
     "execution_count": 37,
     "metadata": {},
     "output_type": "execute_result"
    }
   ],
   "source": [
    "model2.fit(x_train, y_train, epochs=30, callbacks=[tb_callback])"
   ]
  },
  {
   "cell_type": "markdown",
   "metadata": {},
   "source": [
    "model2.save('models\\\\model1056.h5')"
   ]
  },
  {
   "cell_type": "code",
   "execution_count": 93,
   "metadata": {},
   "outputs": [],
   "source": [
    "model2 = load_model('models/model2112.h5')"
   ]
  },
  {
   "cell_type": "code",
   "execution_count": 94,
   "metadata": {},
   "outputs": [
    {
     "name": "stdout",
     "output_type": "stream",
     "text": [
      "WARNING:tensorflow:6 out of the last 16 calls to <function Model.make_predict_function.<locals>.predict_function at 0x0000018F096ED040> triggered tf.function retracing. Tracing is expensive and the excessive number of tracings could be due to (1) creating @tf.function repeatedly in a loop, (2) passing tensors with different shapes, (3) passing Python objects instead of tensors. For (1), please define your @tf.function outside of the loop. For (2), @tf.function has experimental_relax_shapes=True option that relaxes argument shapes that can avoid unnecessary retracing. For (3), please refer to https://www.tensorflow.org/guide/function#controlling_retracing and https://www.tensorflow.org/api_docs/python/tf/function for  more details.\n"
     ]
    }
   ],
   "source": [
    "yhat = model2.predict(x)\n",
    "ytru = np.argmax(y, axis=1).tolist()\n",
    "yhat = np.argmax(yhat, axis=1).tolist()"
   ]
  },
  {
   "cell_type": "code",
   "execution_count": 95,
   "metadata": {},
   "outputs": [
    {
     "data": {
      "text/plain": [
       "'              precision    recall  f1-score   support\\n\\n           0       0.98      0.98      0.98        60\\n           1       0.98      0.98      0.98        60\\n\\n    accuracy                           0.98       120\\n   macro avg       0.98      0.98      0.98       120\\nweighted avg       0.98      0.98      0.98       120\\n'"
      ]
     },
     "execution_count": 95,
     "metadata": {},
     "output_type": "execute_result"
    }
   ],
   "source": [
    "classification_report(ytru, yhat)"
   ]
  },
  {
   "cell_type": "code",
   "execution_count": 96,
   "metadata": {},
   "outputs": [],
   "source": [
    "cm = confusion_matrix(ytru, yhat)"
   ]
  },
  {
   "cell_type": "code",
   "execution_count": 97,
   "metadata": {},
   "outputs": [
    {
     "data": {
      "text/plain": [
       "<sklearn.metrics._plot.confusion_matrix.ConfusionMatrixDisplay at 0x18f096e2f40>"
      ]
     },
     "execution_count": 97,
     "metadata": {},
     "output_type": "execute_result"
    },
    {
     "data": {
      "image/png": "[encoded data removed]",
      "text/plain": [
       "<Figure size 432x288 with 2 Axes>"
      ]
     },
     "metadata": {
      "needs_background": "light"
     },
     "output_type": "display_data"
    }
   ],
   "source": [
    "disp = ConfusionMatrixDisplay(cm, display_labels=[\"Jumping Jacks\", \"Squats\"])\n",
    "disp.plot()"
   ]
  },
  {
   "cell_type": "code",
   "execution_count": 26,
   "metadata": {},
   "outputs": [],
   "source": [
    "res = model2.predict(x)"
   ]
  },
  {
   "cell_type": "code",
   "execution_count": 27,
   "metadata": {},
   "outputs": [
    {
     "name": "stdout",
     "output_type": "stream",
     "text": [
      "111\n"
     ]
    }
   ],
   "source": [
    "for guess in range(len(res)):\n",
    "    if np.argmax(res[guess]) != np.argmax(y[guess]):\n",
    "        print(guess)"
   ]
  },
  {
   "cell_type": "code",
   "execution_count": 70,
   "metadata": {},
   "outputs": [
    {
     "name": "stdout",
     "output_type": "stream",
     "text": [
      "C:/Users/kevin/OneDrive/Documents/Year4/ECNG3020/Code/data/test/jack/vid6.avi\n",
      "(70, 1056, 3)\n",
      "jack 0.9908275\n"
     ]
    }
   ],
   "source": [
    "data = run(\"C:/Users/kevin/OneDrive/Documents/Year4/ECNG3020/Code/data/test/jack/vid6.avi\")\n",
    "final = ProcessPaper(data)\n",
    "print(final.shape)\n",
    "temp = np.copy(final)\n",
    "for i in range(122 - len(final)):\n",
    "    temp = np.append(temp, np.zeros((1056, 3), float))\n",
    "temp = np.reshape(temp, (122, 1056, 3))\n",
    "\n",
    "res = model2.predict(np.expand_dims(temp, axis=0))[0]\n",
    "map = {num: label for num, label in enumerate(actions)}\n",
    "print(map[np.argmax(res)], res[np.argmax(res)])"
   ]
  },
  {
   "cell_type": "code",
   "execution_count": 60,
   "metadata": {},
   "outputs": [
    {
     "ename": "FileExistsError",
     "evalue": "[WinError 183] Cannot create a file when that file already exists: 'test/jack'",
     "output_type": "error",
     "traceback": [
      "\u001b[1;31m---------------------------------------------------------------------------\u001b[0m",
      "\u001b[1;31mFileExistsError\u001b[0m                           Traceback (most recent call last)",
      "\u001b[1;32m~\\AppData\\Local\\Temp/ipykernel_13020/2795467298.py\u001b[0m in \u001b[0;36m<module>\u001b[1;34m\u001b[0m\n\u001b[0;32m      1\u001b[0m \u001b[1;32mfor\u001b[0m \u001b[0maction\u001b[0m \u001b[1;32min\u001b[0m \u001b[0mactions\u001b[0m\u001b[1;33m:\u001b[0m\u001b[1;33m\u001b[0m\u001b[1;33m\u001b[0m\u001b[0m\n\u001b[1;32m----> 2\u001b[1;33m     \u001b[0mos\u001b[0m\u001b[1;33m.\u001b[0m\u001b[0mmkdir\u001b[0m\u001b[1;33m(\u001b[0m\u001b[1;34m\"test/%s\"\u001b[0m\u001b[1;33m%\u001b[0m\u001b[0maction\u001b[0m\u001b[1;33m)\u001b[0m\u001b[1;33m\u001b[0m\u001b[1;33m\u001b[0m\u001b[0m\n\u001b[0m\u001b[0;32m      3\u001b[0m     \u001b[1;32mfor\u001b[0m \u001b[0mfilename\u001b[0m \u001b[1;32min\u001b[0m \u001b[0mos\u001b[0m\u001b[1;33m.\u001b[0m\u001b[0mlistdir\u001b[0m\u001b[1;33m(\u001b[0m\u001b[1;34m\"C:\\\\Users\\\\kevin\\\\OneDrive\\\\Documents\\\\Year4\\\\ECNG3020\\\\Code\\\\data\\\\test\\\\%s\"\u001b[0m\u001b[1;33m%\u001b[0m\u001b[0maction\u001b[0m\u001b[1;33m)\u001b[0m\u001b[1;33m:\u001b[0m\u001b[1;33m\u001b[0m\u001b[1;33m\u001b[0m\u001b[0m\n\u001b[0;32m      4\u001b[0m         \u001b[0mpath\u001b[0m \u001b[1;33m=\u001b[0m \u001b[0mos\u001b[0m\u001b[1;33m.\u001b[0m\u001b[0mpath\u001b[0m\u001b[1;33m.\u001b[0m\u001b[0mjoin\u001b[0m\u001b[1;33m(\u001b[0m\u001b[1;34m\"C:\\\\Users\\\\kevin\\\\OneDrive\\\\Documents\\\\Year4\\\\ECNG3020\\\\Code\\\\data\\\\test\\\\%s\"\u001b[0m\u001b[1;33m%\u001b[0m\u001b[0maction\u001b[0m\u001b[1;33m,\u001b[0m \u001b[0mfilename\u001b[0m\u001b[1;33m)\u001b[0m\u001b[1;33m\u001b[0m\u001b[1;33m\u001b[0m\u001b[0m\n\u001b[0;32m      5\u001b[0m         \u001b[0mdata\u001b[0m \u001b[1;33m=\u001b[0m \u001b[0mrun\u001b[0m\u001b[1;33m(\u001b[0m\u001b[0mpath\u001b[0m\u001b[1;33m)\u001b[0m\u001b[1;33m\u001b[0m\u001b[1;33m\u001b[0m\u001b[0m\n",
      "\u001b[1;31mFileExistsError\u001b[0m: [WinError 183] Cannot create a file when that file already exists: 'test/jack'"
     ]
    }
   ],
   "source": [
    "for action in actions:\n",
    "    os.mkdir(\"test/%s\"%action)\n",
    "    for filename in os.listdir(\"C:\\\\Users\\\\kevin\\\\OneDrive\\\\Documents\\\\Year4\\\\ECNG3020\\\\Code\\\\data\\\\test\\\\%s\"%action):\n",
    "        path = os.path.join(\"C:\\\\Users\\\\kevin\\\\OneDrive\\\\Documents\\\\Year4\\\\ECNG3020\\\\Code\\\\data\\\\test\\\\%s\"%action, filename)\n",
    "        data = run(path)\n",
    "        final = ProcessPaper(data)\n",
    "        np.save(\"test/%s/%s\"%(action, filename[:-4]), final)"
   ]
  },
  {
   "cell_type": "code",
   "execution_count": 29,
   "metadata": {},
   "outputs": [],
   "source": [
    "sequences, labels = [], []\n",
    "for action in actions:\n",
    "    for video in os.listdir(\"test/%s\"%action):\n",
    "        temp = []\n",
    "        vid = np.load(\"test/%s/%s\"%(action, video))\n",
    "        # print(vid.shape)\n",
    "        sequences.append(vid)\n",
    "        labels.append(label_map[action])\n",
    "\n",
    "x = []\n",
    "# full = max([len(i) for i in sequences])\n",
    "full = 122\n",
    "for vid in sequences:\n",
    "    temp = np.copy(vid)\n",
    "    if len(vid) < full:\n",
    "        for i in range(full - len(vid)):\n",
    "            temp = np.append(temp, np.zeros((1056, 3), float))\n",
    "    temp = np.reshape(temp, (full, 1056, 3))\n",
    "    x.append(temp)\n",
    "\n",
    "x = np.array(x)\n",
    "y = to_categorical(labels).astype(int)"
   ]
  },
  {
   "cell_type": "code",
   "execution_count": 72,
   "metadata": {},
   "outputs": [],
   "source": [
    "sequence = []\n",
    "sentence = []\n",
    "res = []\n",
    "threshold = 0.7\n",
    "\n",
    "video = cv2.VideoCapture(0)\n",
    "# cv2.namedWindow('test')\n",
    "# cv2.createTrackbar('Brightness', 'test', 255, 2 * 255, BrightnessContrast) \n",
    "# cv2.createTrackbar('Contrast', 'test', 127, 2 * 127, BrightnessContrast)\n",
    "    \n",
    "with mpsolution.Holistic(min_detection_confidence = 0.5, min_tracking_confidence=0.5) as model:\n",
    "    while video.isOpened():\n",
    "        ret, frame = video.read()\n",
    "        if not ret:\n",
    "            print(\"Can't receive frame (stream end?). Exiting ...\")\n",
    "            break\n",
    "        \n",
    "        effect = BrightnessContrast(frame, 357, 209)\n",
    "        result2 = detection(effect, model)\n",
    "        Superimpose(effect, result2)\n",
    "\n",
    "        sequence.insert(0, result2)\n",
    "        sequence = sequence[:122]\n",
    "\n",
    "        if len(sequence) == 122:\n",
    "            temp = ProcessPaper(sequence)\n",
    "            res = model2.predict(np.expand_dims(temp, axis=0))[0]\n",
    "\n",
    "            if res[np.argmax(res)] > threshold:\n",
    "                # sequence.clear()\n",
    "                if len(sentence) > 0:\n",
    "                    if map[np.argmax(res)] != sentence[-1]:\n",
    "                        sentence.append(map[np.argmax(res)])\n",
    "                else:\n",
    "                    sentence.append(map[np.argmax(res)])\n",
    "\n",
    "                if len(sentence) > 5:\n",
    "                    sentence = sentence[-5:]\n",
    "\n",
    "\n",
    "        cv2.rectangle(effect, (0, 0), (640, 40), (245, 117, 16), -1,)\n",
    "        cv2.putText(effect, ' '.join(sentence), (3, 30), cv2.FONT_HERSHEY_SIMPLEX, 1, (255, 255, 255), 2, cv2.LINE_AA)\n",
    "\n",
    "        cv2.imshow(\"effect\", effect)\n",
    "\n",
    "        if cv2.waitKey(10) & 0xFF == ord('q'):\n",
    "            break\n",
    "    \n",
    "    video.release()\n",
    "    cv2.destroyAllWindows()"
   ]
  },
  {
   "cell_type": "code",
   "execution_count": 52,
   "metadata": {},
   "outputs": [],
   "source": [
    "    video.release()\n",
    "    cv2.destroyAllWindows()"
   ]
  }
 ],
 "metadata": {
  "interpreter": {
   "hash": "abfeca66813848e2cdbe73d59d7314be6cb81f006f558773d81e8f09166e8732"
  },
  "kernelspec": {
   "display_name": "Python 3.9.7 64-bit ('ECNG3020': conda)",
   "language": "python",
   "name": "python3"
  },
  "language_info": {
   "codemirror_mode": {
    "name": "ipython",
    "version": 3
   },
   "file_extension": ".py",
   "mimetype": "text/x-python",
   "name": "python",
   "nbconvert_exporter": "python",
   "pygments_lexer": "ipython3",
   "version": "3.9.7"
  },
  "orig_nbformat": 4
 },
 "nbformat": 4,
 "nbformat_minor": 2
}
